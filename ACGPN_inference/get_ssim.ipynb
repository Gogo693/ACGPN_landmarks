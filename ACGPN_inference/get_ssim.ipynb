{
 "cells": [
  {
   "cell_type": "code",
   "execution_count": 13,
   "metadata": {},
   "outputs": [],
   "source": [
    "# Usage:\n",
    "#\n",
    "# python3 script.py --input original.png --output modified.png\n",
    "# Based on: https://github.com/mostafaGwely/Structural-Similarity-Index-SSIM-\n",
    "\n",
    "# 1. Import the necessary packages\n",
    "from skimage.measure import compare_ssim\n",
    "import argparse\n",
    "import imutils\n",
    "import cv2\n",
    "\n",
    "from skimage import data, img_as_float\n",
    "from skimage.metrics import structural_similarity as ssim\n",
    "\n",
    "'''\n",
    "# 2. Construct the argument parse and parse the arguments\n",
    "ap = argparse.ArgumentParser()\n",
    "ap.add_argument(\"-f\", \"--first\", required=True, help=\"Directory of the image that will be compared\")\n",
    "ap.add_argument(\"-s\", \"--second\", required=True, help=\"Directory of the image that will be used to compare\")\n",
    "args = vars(ap.parse_args())\n",
    "\n",
    "# 3. Load the two input images\n",
    "imageA = cv2.imread(args[\"first\"])\n",
    "imageB = cv2.imread(args[\"second\"])\n",
    "'''\n",
    "\n",
    "import os\n",
    "\n",
    "def main():\n",
    "    target_dir = './results_paper/'\n",
    "    #target_dir = './results/'\n",
    "    gt_dir = './data/Data_preprocessing/test_img/'\n",
    "\n",
    "    count = 0\n",
    "    tot_score = 0\n",
    "\n",
    "    for filename in os.listdir(target_dir):\n",
    "        imageA = cv2.imread(target_dir + filename)\n",
    "        imageB = cv2.imread(gt_dir + filename)\n",
    "\n",
    "        # 4. Convert the images to grayscale\n",
    "        grayA = img_as_float(cv2.cvtColor(imageA, cv2.COLOR_BGR2GRAY))\n",
    "        grayB = img_as_float(cv2.cvtColor(imageB, cv2.COLOR_BGR2GRAY))\n",
    "\n",
    "        # 5. Compute the Structural Similarity Index (SSIM) between the two\n",
    "        #    images, ensuring that the difference image is returned\n",
    "        \n",
    "        #(score, diff) = compare_ssim(grayA, grayB, full=True)\n",
    "        #diff = (diff * 255).astype(\"uint8\")\n",
    "        \n",
    "        (score, diff) = ssim(grayA, grayB, full=True)\n",
    "        \n",
    "        count += 1\n",
    "        tot_score += score\n",
    "        #if count % 10 == 0:\n",
    "        #    print(target_dir + filename, gt_dir + filename, score)\n",
    "        #print(score)\n",
    "\n",
    "    score = tot_score / count\n",
    "\n",
    "    # 6. You can print only the score if you want\n",
    "    print(\"SSIM: {}\".format(score))\n"
   ]
  },
  {
   "cell_type": "code",
   "execution_count": 8,
   "metadata": {},
   "outputs": [
    {
     "name": "stderr",
     "output_type": "stream",
     "text": [
      "<ipython-input-7-0670e9d4404a>:43: UserWarning: DEPRECATED: skimage.measure.compare_ssim has been moved to skimage.metrics.structural_similarity. It will be removed from skimage.measure in version 0.18.\n",
      "  (score, diff) = compare_ssim(grayB, grayA, full=True)\n"
     ]
    },
    {
     "name": "stdout",
     "output_type": "stream",
     "text": [
      "SSIM: 0.7739626094817602\n"
     ]
    }
   ],
   "source": [
    "main()"
   ]
  },
  {
   "cell_type": "code",
   "execution_count": 12,
   "metadata": {},
   "outputs": [
    {
     "name": "stderr",
     "output_type": "stream",
     "text": [
      "<ipython-input-11-57c640ac6b44>:43: UserWarning: DEPRECATED: skimage.measure.compare_ssim has been moved to skimage.metrics.structural_similarity. It will be removed from skimage.measure in version 0.18.\n",
      "  (score, diff) = compare_ssim(grayA, grayB, full=True)\n"
     ]
    },
    {
     "name": "stdout",
     "output_type": "stream",
     "text": [
      "SSIM: 0.7755587002579535\n"
     ]
    }
   ],
   "source": [
    "#results paper model\n",
    "main()"
   ]
  },
  {
   "cell_type": "code",
   "execution_count": 24,
   "metadata": {},
   "outputs": [
    {
     "name": "stderr",
     "output_type": "stream",
     "text": [
      "<ipython-input-23-b9b697fbf71d>:43: UserWarning: DEPRECATED: skimage.measure.compare_ssim has been moved to skimage.metrics.structural_similarity. It will be removed from skimage.measure in version 0.18.\n",
      "  (score, diff) = compare_ssim(grayA, grayB, full=True)\n"
     ]
    },
    {
     "name": "stdout",
     "output_type": "stream",
     "text": [
      "./results_paper/007874_0.jpg ./data/Data_preprocessing/test_img/007874_0.jpg 0.7405374577780093\n",
      "./results_paper/013948_0.jpg ./data/Data_preprocessing/test_img/013948_0.jpg 0.8994176285908246\n",
      "./results_paper/003555_0.jpg ./data/Data_preprocessing/test_img/003555_0.jpg 0.7879887610102584\n",
      "./results_paper/001349_0.jpg ./data/Data_preprocessing/test_img/001349_0.jpg 0.6877106350682458\n",
      "./results_paper/015979_0.jpg ./data/Data_preprocessing/test_img/015979_0.jpg 0.8402691483212803\n",
      "./results_paper/002728_0.jpg ./data/Data_preprocessing/test_img/002728_0.jpg 0.855696753006941\n",
      "./results_paper/012451_0.jpg ./data/Data_preprocessing/test_img/012451_0.jpg 0.8748158154384976\n",
      "./results_paper/014844_0.jpg ./data/Data_preprocessing/test_img/014844_0.jpg 0.6566835436549555\n",
      "./results_paper/002670_0.jpg ./data/Data_preprocessing/test_img/002670_0.jpg 0.6999831353291205\n",
      "./results_paper/018219_0.jpg ./data/Data_preprocessing/test_img/018219_0.jpg 0.6477221564795911\n",
      "./results_paper/012830_0.jpg ./data/Data_preprocessing/test_img/012830_0.jpg 0.7668839178735397\n",
      "./results_paper/007434_0.jpg ./data/Data_preprocessing/test_img/007434_0.jpg 0.7529357575027832\n",
      "./results_paper/014629_0.jpg ./data/Data_preprocessing/test_img/014629_0.jpg 0.6894849473999519\n",
      "./results_paper/003236_0.jpg ./data/Data_preprocessing/test_img/003236_0.jpg 0.6999490924914951\n",
      "./results_paper/013309_0.jpg ./data/Data_preprocessing/test_img/013309_0.jpg 0.7403660248918085\n",
      "./results_paper/005562_0.jpg ./data/Data_preprocessing/test_img/005562_0.jpg 0.8177092298109462\n",
      "./results_paper/016515_0.jpg ./data/Data_preprocessing/test_img/016515_0.jpg 0.7707022717767424\n",
      "./results_paper/008976_0.jpg ./data/Data_preprocessing/test_img/008976_0.jpg 0.7997754436691051\n",
      "./results_paper/004537_0.jpg ./data/Data_preprocessing/test_img/004537_0.jpg 0.7108111946290294\n",
      "./results_paper/003414_0.jpg ./data/Data_preprocessing/test_img/003414_0.jpg 0.7817336418626195\n",
      "./results_paper/008938_0.jpg ./data/Data_preprocessing/test_img/008938_0.jpg 0.8288014233692558\n",
      "./results_paper/018089_0.jpg ./data/Data_preprocessing/test_img/018089_0.jpg 0.777675721899919\n",
      "./results_paper/017805_0.jpg ./data/Data_preprocessing/test_img/017805_0.jpg 0.7909244833133879\n",
      "./results_paper/017688_0.jpg ./data/Data_preprocessing/test_img/017688_0.jpg 0.9096949289943866\n",
      "./results_paper/005728_0.jpg ./data/Data_preprocessing/test_img/005728_0.jpg 0.7151621703714908\n",
      "./results_paper/016839_0.jpg ./data/Data_preprocessing/test_img/016839_0.jpg 0.8067893230630456\n",
      "./results_paper/005285_0.jpg ./data/Data_preprocessing/test_img/005285_0.jpg 0.697428343704104\n",
      "./results_paper/017710_0.jpg ./data/Data_preprocessing/test_img/017710_0.jpg 0.7834235966184427\n",
      "./results_paper/017999_0.jpg ./data/Data_preprocessing/test_img/017999_0.jpg 0.8382765880373845\n",
      "./results_paper/003890_0.jpg ./data/Data_preprocessing/test_img/003890_0.jpg 0.7172726955985995\n",
      "./results_paper/004285_0.jpg ./data/Data_preprocessing/test_img/004285_0.jpg 0.7523633444369748\n",
      "./results_paper/012219_0.jpg ./data/Data_preprocessing/test_img/012219_0.jpg 0.7924038137552253\n",
      "./results_paper/007914_0.jpg ./data/Data_preprocessing/test_img/007914_0.jpg 0.870498631836728\n",
      "./results_paper/016290_0.jpg ./data/Data_preprocessing/test_img/016290_0.jpg 0.7142287289959888\n",
      "./results_paper/006968_0.jpg ./data/Data_preprocessing/test_img/006968_0.jpg 0.7279446189937816\n",
      "./results_paper/010381_0.jpg ./data/Data_preprocessing/test_img/010381_0.jpg 0.8168287736217207\n",
      "./results_paper/017536_0.jpg ./data/Data_preprocessing/test_img/017536_0.jpg 0.8004664856621471\n",
      "./results_paper/016676_0.jpg ./data/Data_preprocessing/test_img/016676_0.jpg 0.8273982073490854\n",
      "./results_paper/006889_0.jpg ./data/Data_preprocessing/test_img/006889_0.jpg 0.8908812899631882\n",
      "./results_paper/003641_0.jpg ./data/Data_preprocessing/test_img/003641_0.jpg 0.7324026953515789\n",
      "./results_paper/014728_0.jpg ./data/Data_preprocessing/test_img/014728_0.jpg 0.7834534854426858\n",
      "./results_paper/002812_0.jpg ./data/Data_preprocessing/test_img/002812_0.jpg 0.8867800747349194\n",
      "./results_paper/006620_0.jpg ./data/Data_preprocessing/test_img/006620_0.jpg 0.7392479763505148\n",
      "./results_paper/011034_0.jpg ./data/Data_preprocessing/test_img/011034_0.jpg 0.7431291166695428\n",
      "./results_paper/007113_0.jpg ./data/Data_preprocessing/test_img/007113_0.jpg 0.744705126188207\n",
      "./results_paper/018167_0.jpg ./data/Data_preprocessing/test_img/018167_0.jpg 0.8224108506127574\n",
      "./results_paper/009474_0.jpg ./data/Data_preprocessing/test_img/009474_0.jpg 0.7120761880652346\n",
      "./results_paper/001735_0.jpg ./data/Data_preprocessing/test_img/001735_0.jpg 0.733444887940478\n",
      "./results_paper/011883_0.jpg ./data/Data_preprocessing/test_img/011883_0.jpg 0.7502427047375384\n",
      "./results_paper/017877_0.jpg ./data/Data_preprocessing/test_img/017877_0.jpg 0.7691902993205721\n",
      "./results_paper/007168_0.jpg ./data/Data_preprocessing/test_img/007168_0.jpg 0.9097214609500119\n",
      "./results_paper/006036_0.jpg ./data/Data_preprocessing/test_img/006036_0.jpg 0.7046120982823768\n",
      "./results_paper/001056_0.jpg ./data/Data_preprocessing/test_img/001056_0.jpg 0.857037483612828\n",
      "./results_paper/002681_0.jpg ./data/Data_preprocessing/test_img/002681_0.jpg 0.7202100756359524\n",
      "./results_paper/009912_0.jpg ./data/Data_preprocessing/test_img/009912_0.jpg 0.7270046839287237\n",
      "./results_paper/016230_0.jpg ./data/Data_preprocessing/test_img/016230_0.jpg 0.8052547527798135\n",
      "./results_paper/011128_0.jpg ./data/Data_preprocessing/test_img/011128_0.jpg 0.8187760778192246\n",
      "./results_paper/004042_0.jpg ./data/Data_preprocessing/test_img/004042_0.jpg 0.7871581101352702\n",
      "./results_paper/010620_0.jpg ./data/Data_preprocessing/test_img/010620_0.jpg 0.6962689297938102\n",
      "./results_paper/014888_0.jpg ./data/Data_preprocessing/test_img/014888_0.jpg 0.7706116557689336\n",
      "./results_paper/000330_0.jpg ./data/Data_preprocessing/test_img/000330_0.jpg 0.7833380541848601\n",
      "./results_paper/002413_0.jpg ./data/Data_preprocessing/test_img/002413_0.jpg 0.7967600198186175\n",
      "./results_paper/005306_0.jpg ./data/Data_preprocessing/test_img/005306_0.jpg 0.6968328478049449\n",
      "./results_paper/004529_0.jpg ./data/Data_preprocessing/test_img/004529_0.jpg 0.7986036115440807\n",
      "./results_paper/011523_0.jpg ./data/Data_preprocessing/test_img/011523_0.jpg 0.8839027704593044\n",
      "./results_paper/006358_0.jpg ./data/Data_preprocessing/test_img/006358_0.jpg 0.807671619013676\n",
      "./results_paper/006285_0.jpg ./data/Data_preprocessing/test_img/006285_0.jpg 0.845623320242851\n",
      "./results_paper/008570_0.jpg ./data/Data_preprocessing/test_img/008570_0.jpg 0.8221518556932069\n",
      "./results_paper/015247_0.jpg ./data/Data_preprocessing/test_img/015247_0.jpg 0.7628513073295474\n",
      "./results_paper/018626_0.jpg ./data/Data_preprocessing/test_img/018626_0.jpg 0.8181467441039219\n",
      "./results_paper/003760_0.jpg ./data/Data_preprocessing/test_img/003760_0.jpg 0.6380528370185906\n",
      "./results_paper/012811_0.jpg ./data/Data_preprocessing/test_img/012811_0.jpg 0.7640813795891076\n",
      "./results_paper/017505_0.jpg ./data/Data_preprocessing/test_img/017505_0.jpg 0.7904075445748348\n",
      "./results_paper/016929_0.jpg ./data/Data_preprocessing/test_img/016929_0.jpg 0.7717518956114301\n",
      "./results_paper/014720_0.jpg ./data/Data_preprocessing/test_img/014720_0.jpg 0.7532721400715845\n",
      "./results_paper/015428_0.jpg ./data/Data_preprocessing/test_img/015428_0.jpg 0.7107579587998685\n",
      "./results_paper/009515_0.jpg ./data/Data_preprocessing/test_img/009515_0.jpg 0.7534209175224249\n",
      "./results_paper/005336_0.jpg ./data/Data_preprocessing/test_img/005336_0.jpg 0.7501185100898261\n",
      "./results_paper/014272_0.jpg ./data/Data_preprocessing/test_img/014272_0.jpg 0.7618040172241229\n",
      "./results_paper/010575_0.jpg ./data/Data_preprocessing/test_img/010575_0.jpg 0.7971784195550549\n",
      "./results_paper/000734_0.jpg ./data/Data_preprocessing/test_img/000734_0.jpg 0.7060546835850512\n",
      "./results_paper/006688_0.jpg ./data/Data_preprocessing/test_img/006688_0.jpg 0.8238717411583418\n",
      "./results_paper/006402_0.jpg ./data/Data_preprocessing/test_img/006402_0.jpg 0.9219995357720036\n",
      "./results_paper/018837_0.jpg ./data/Data_preprocessing/test_img/018837_0.jpg 0.6496545554124498\n",
      "./results_paper/016799_0.jpg ./data/Data_preprocessing/test_img/016799_0.jpg 0.7680123652744122\n",
      "./results_paper/007405_0.jpg ./data/Data_preprocessing/test_img/007405_0.jpg 0.6996316277573068\n",
      "./results_paper/013273_0.jpg ./data/Data_preprocessing/test_img/013273_0.jpg 0.878086674800126\n",
      "./results_paper/002248_0.jpg ./data/Data_preprocessing/test_img/002248_0.jpg 0.6549883246728214\n",
      "./results_paper/018552_0.jpg ./data/Data_preprocessing/test_img/018552_0.jpg 0.872988345871118\n",
      "./results_paper/017002_0.jpg ./data/Data_preprocessing/test_img/017002_0.jpg 0.8108160122588814\n"
     ]
    },
    {
     "name": "stdout",
     "output_type": "stream",
     "text": [
      "./results_paper/014712_0.jpg ./data/Data_preprocessing/test_img/014712_0.jpg 0.7762175351817829\n",
      "./results_paper/009215_0.jpg ./data/Data_preprocessing/test_img/009215_0.jpg 0.7196324168437919\n",
      "./results_paper/008160_0.jpg ./data/Data_preprocessing/test_img/008160_0.jpg 0.8690919922985169\n",
      "./results_paper/010636_0.jpg ./data/Data_preprocessing/test_img/010636_0.jpg 0.9015998312209749\n",
      "./results_paper/017145_0.jpg ./data/Data_preprocessing/test_img/017145_0.jpg 0.834087289876936\n",
      "./results_paper/010318_0.jpg ./data/Data_preprocessing/test_img/010318_0.jpg 0.8190079721057711\n",
      "./results_paper/011641_0.jpg ./data/Data_preprocessing/test_img/011641_0.jpg 0.8776408375130565\n",
      "./results_paper/005763_0.jpg ./data/Data_preprocessing/test_img/005763_0.jpg 0.7063602422649244\n",
      "./results_paper/007013_0.jpg ./data/Data_preprocessing/test_img/007013_0.jpg 0.7486735226003937\n",
      "./results_paper/017062_0.jpg ./data/Data_preprocessing/test_img/017062_0.jpg 0.7715765721941253\n",
      "./results_paper/014055_0.jpg ./data/Data_preprocessing/test_img/014055_0.jpg 0.8475124371111828\n",
      "./results_paper/006440_0.jpg ./data/Data_preprocessing/test_img/006440_0.jpg 0.8295298143352641\n",
      "./results_paper/017482_0.jpg ./data/Data_preprocessing/test_img/017482_0.jpg 0.8945085210877303\n",
      "./results_paper/001695_0.jpg ./data/Data_preprocessing/test_img/001695_0.jpg 0.7406631177651102\n",
      "./results_paper/004823_0.jpg ./data/Data_preprocessing/test_img/004823_0.jpg 0.844569863133201\n",
      "./results_paper/009660_0.jpg ./data/Data_preprocessing/test_img/009660_0.jpg 0.710306765116831\n",
      "./results_paper/016112_0.jpg ./data/Data_preprocessing/test_img/016112_0.jpg 0.7686340159844979\n",
      "./results_paper/009995_0.jpg ./data/Data_preprocessing/test_img/009995_0.jpg 0.8000597384858374\n",
      "./results_paper/007710_0.jpg ./data/Data_preprocessing/test_img/007710_0.jpg 0.6892059068526728\n",
      "./results_paper/015598_0.jpg ./data/Data_preprocessing/test_img/015598_0.jpg 0.7911482495388938\n",
      "./results_paper/018059_0.jpg ./data/Data_preprocessing/test_img/018059_0.jpg 0.7395483566216543\n",
      "./results_paper/014564_0.jpg ./data/Data_preprocessing/test_img/014564_0.jpg 0.8477953472643204\n",
      "./results_paper/015392_0.jpg ./data/Data_preprocessing/test_img/015392_0.jpg 0.6912866196923101\n",
      "./results_paper/000174_0.jpg ./data/Data_preprocessing/test_img/000174_0.jpg 0.7893817331265628\n",
      "./results_paper/016899_0.jpg ./data/Data_preprocessing/test_img/016899_0.jpg 0.7200219172955992\n",
      "./results_paper/003721_0.jpg ./data/Data_preprocessing/test_img/003721_0.jpg 0.8740391365943357\n",
      "./results_paper/006118_0.jpg ./data/Data_preprocessing/test_img/006118_0.jpg 0.7025730816785982\n",
      "./results_paper/001337_0.jpg ./data/Data_preprocessing/test_img/001337_0.jpg 0.7997046203580243\n",
      "./results_paper/008616_0.jpg ./data/Data_preprocessing/test_img/008616_0.jpg 0.8892835002363677\n",
      "./results_paper/012183_0.jpg ./data/Data_preprocessing/test_img/012183_0.jpg 0.8856892586109893\n",
      "./results_paper/003981_0.jpg ./data/Data_preprocessing/test_img/003981_0.jpg 0.866613277170006\n",
      "./results_paper/009024_0.jpg ./data/Data_preprocessing/test_img/009024_0.jpg 0.6304228536415556\n",
      "./results_paper/001378_0.jpg ./data/Data_preprocessing/test_img/001378_0.jpg 0.8888691193515726\n",
      "./results_paper/015325_0.jpg ./data/Data_preprocessing/test_img/015325_0.jpg 0.81180052269277\n",
      "./results_paper/016067_0.jpg ./data/Data_preprocessing/test_img/016067_0.jpg 0.7982795064547885\n",
      "./results_paper/013725_0.jpg ./data/Data_preprocessing/test_img/013725_0.jpg 0.788224902980685\n",
      "./results_paper/017904_0.jpg ./data/Data_preprocessing/test_img/017904_0.jpg 0.8044000403903345\n",
      "./results_paper/003208_0.jpg ./data/Data_preprocessing/test_img/003208_0.jpg 0.7603458609560242\n",
      "./results_paper/016455_0.jpg ./data/Data_preprocessing/test_img/016455_0.jpg 0.84375607269905\n",
      "./results_paper/019018_0.jpg ./data/Data_preprocessing/test_img/019018_0.jpg 0.9094038681736651\n",
      "./results_paper/003821_0.jpg ./data/Data_preprocessing/test_img/003821_0.jpg 0.7802724904064937\n",
      "./results_paper/012803_0.jpg ./data/Data_preprocessing/test_img/012803_0.jpg 0.6428081368865329\n",
      "./results_paper/013688_0.jpg ./data/Data_preprocessing/test_img/013688_0.jpg 0.807486592982116\n",
      "./results_paper/003328_0.jpg ./data/Data_preprocessing/test_img/003328_0.jpg 0.7048357440832599\n",
      "./results_paper/015571_0.jpg ./data/Data_preprocessing/test_img/015571_0.jpg 0.7334141952774623\n",
      "./results_paper/015794_0.jpg ./data/Data_preprocessing/test_img/015794_0.jpg 0.8164107067882833\n",
      "./results_paper/015497_0.jpg ./data/Data_preprocessing/test_img/015497_0.jpg 0.8662766508181404\n",
      "./results_paper/004666_0.jpg ./data/Data_preprocessing/test_img/004666_0.jpg 0.9230620584493806\n",
      "./results_paper/017965_0.jpg ./data/Data_preprocessing/test_img/017965_0.jpg 0.8005399793501986\n",
      "./results_paper/001028_0.jpg ./data/Data_preprocessing/test_img/001028_0.jpg 0.7741449543730781\n",
      "./results_paper/002022_0.jpg ./data/Data_preprocessing/test_img/002022_0.jpg 0.8133185375852874\n",
      "./results_paper/007826_0.jpg ./data/Data_preprocessing/test_img/007826_0.jpg 0.8201371162297221\n",
      "./results_paper/011355_0.jpg ./data/Data_preprocessing/test_img/011355_0.jpg 0.7788160212190078\n",
      "./results_paper/002486_0.jpg ./data/Data_preprocessing/test_img/002486_0.jpg 0.8857987700129685\n",
      "./results_paper/013601_0.jpg ./data/Data_preprocessing/test_img/013601_0.jpg 0.6208409316282071\n",
      "./results_paper/010628_0.jpg ./data/Data_preprocessing/test_img/010628_0.jpg 0.8322211542798409\n",
      "./results_paper/018598_0.jpg ./data/Data_preprocessing/test_img/018598_0.jpg 0.7544619758192339\n",
      "./results_paper/012479_0.jpg ./data/Data_preprocessing/test_img/012479_0.jpg 0.935434434891874\n",
      "./results_paper/010976_0.jpg ./data/Data_preprocessing/test_img/010976_0.jpg 0.8445594210683497\n",
      "./results_paper/019243_0.jpg ./data/Data_preprocessing/test_img/019243_0.jpg 0.656296977250763\n",
      "./results_paper/010599_0.jpg ./data/Data_preprocessing/test_img/010599_0.jpg 0.7358978991266052\n",
      "./results_paper/016505_0.jpg ./data/Data_preprocessing/test_img/016505_0.jpg 0.7098530913764979\n",
      "./results_paper/000183_0.jpg ./data/Data_preprocessing/test_img/000183_0.jpg 0.7534889166383846\n",
      "./results_paper/018894_0.jpg ./data/Data_preprocessing/test_img/018894_0.jpg 0.8353958117562936\n",
      "./results_paper/001664_0.jpg ./data/Data_preprocessing/test_img/001664_0.jpg 0.7864180040946219\n",
      "./results_paper/016465_0.jpg ./data/Data_preprocessing/test_img/016465_0.jpg 0.7976924488584561\n",
      "./results_paper/008580_0.jpg ./data/Data_preprocessing/test_img/008580_0.jpg 0.6801411106452939\n",
      "./results_paper/004508_0.jpg ./data/Data_preprocessing/test_img/004508_0.jpg 0.78391163251436\n",
      "./results_paper/004904_0.jpg ./data/Data_preprocessing/test_img/004904_0.jpg 0.7712803531539287\n",
      "./results_paper/003404_0.jpg ./data/Data_preprocessing/test_img/003404_0.jpg 0.9089277336810277\n",
      "./results_paper/003578_0.jpg ./data/Data_preprocessing/test_img/003578_0.jpg 0.6769658546029484\n",
      "./results_paper/019310_0.jpg ./data/Data_preprocessing/test_img/019310_0.jpg 0.5939292392356766\n",
      "./results_paper/014854_0.jpg ./data/Data_preprocessing/test_img/014854_0.jpg 0.7164249248752065\n",
      "./results_paper/009228_0.jpg ./data/Data_preprocessing/test_img/009228_0.jpg 0.7680991582722303\n",
      "./results_paper/010195_0.jpg ./data/Data_preprocessing/test_img/010195_0.jpg 0.7681734163553009\n",
      "./results_paper/001809_0.jpg ./data/Data_preprocessing/test_img/001809_0.jpg 0.7670845623544232\n",
      "./results_paper/016059_0.jpg ./data/Data_preprocessing/test_img/016059_0.jpg 0.7023916770491587\n",
      "./results_paper/010744_0.jpg ./data/Data_preprocessing/test_img/010744_0.jpg 0.8045902877270644\n",
      "./results_paper/012669_0.jpg ./data/Data_preprocessing/test_img/012669_0.jpg 0.8944745407648564\n",
      "./results_paper/002011_0.jpg ./data/Data_preprocessing/test_img/002011_0.jpg 0.7920779183637509\n",
      "./results_paper/014612_0.jpg ./data/Data_preprocessing/test_img/014612_0.jpg 0.7096107543976024\n",
      "./results_paper/009799_0.jpg ./data/Data_preprocessing/test_img/009799_0.jpg 0.8579907969544575\n",
      "./results_paper/006224_0.jpg ./data/Data_preprocessing/test_img/006224_0.jpg 0.7344056753401128\n",
      "./results_paper/013418_0.jpg ./data/Data_preprocessing/test_img/013418_0.jpg 0.7443521723720076\n",
      "./results_paper/005929_0.jpg ./data/Data_preprocessing/test_img/005929_0.jpg 0.7314522777529798\n",
      "./results_paper/000248_0.jpg ./data/Data_preprocessing/test_img/000248_0.jpg 0.7240533042024503\n",
      "./results_paper/012174_0.jpg ./data/Data_preprocessing/test_img/012174_0.jpg 0.6190106816599938\n",
      "./results_paper/010515_0.jpg ./data/Data_preprocessing/test_img/010515_0.jpg 0.830110264169786\n",
      "./results_paper/018227_0.jpg ./data/Data_preprocessing/test_img/018227_0.jpg 0.6632070247782204\n"
     ]
    },
    {
     "name": "stdout",
     "output_type": "stream",
     "text": [
      "./results_paper/016163_0.jpg ./data/Data_preprocessing/test_img/016163_0.jpg 0.7462135724948065\n",
      "./results_paper/013753_0.jpg ./data/Data_preprocessing/test_img/013753_0.jpg 0.8503222284772679\n",
      "./results_paper/015627_0.jpg ./data/Data_preprocessing/test_img/015627_0.jpg 0.876459173425098\n",
      "./results_paper/002511_0.jpg ./data/Data_preprocessing/test_img/002511_0.jpg 0.8594083870019465\n",
      "./results_paper/001919_0.jpg ./data/Data_preprocessing/test_img/001919_0.jpg 0.6216431682769001\n",
      "./results_paper/009832_0.jpg ./data/Data_preprocessing/test_img/009832_0.jpg 0.7310150960458272\n",
      "./results_paper/009780_0.jpg ./data/Data_preprocessing/test_img/009780_0.jpg 0.8410371027128788\n",
      "./results_paper/003676_0.jpg ./data/Data_preprocessing/test_img/003676_0.jpg 0.7849313001863882\n",
      "./results_paper/015688_0.jpg ./data/Data_preprocessing/test_img/015688_0.jpg 0.5932808896334132\n",
      "./results_paper/012385_0.jpg ./data/Data_preprocessing/test_img/012385_0.jpg 0.7282778104340147\n",
      "./results_paper/002952_0.jpg ./data/Data_preprocessing/test_img/002952_0.jpg 0.8017465449195619\n",
      "./results_paper/005963_0.jpg ./data/Data_preprocessing/test_img/005963_0.jpg 0.7119108965331438\n",
      "./results_paper/000028_0.jpg ./data/Data_preprocessing/test_img/000028_0.jpg 0.7326611880172906\n",
      "./results_paper/019087_0.jpg ./data/Data_preprocessing/test_img/019087_0.jpg 0.7527076242905156\n",
      "./results_paper/015069_0.jpg ./data/Data_preprocessing/test_img/015069_0.jpg 0.8512229716917331\n",
      "./results_paper/008443_0.jpg ./data/Data_preprocessing/test_img/008443_0.jpg 0.8026897473664308\n",
      "./results_paper/000532_0.jpg ./data/Data_preprocessing/test_img/000532_0.jpg 0.6770790086981509\n",
      "./results_paper/009496_0.jpg ./data/Data_preprocessing/test_img/009496_0.jpg 0.7772787895748577\n",
      "./results_paper/009790_0.jpg ./data/Data_preprocessing/test_img/009790_0.jpg 0.8517389570796308\n",
      "./results_paper/012330_0.jpg ./data/Data_preprocessing/test_img/012330_0.jpg 0.6927553126458009\n",
      "./results_paper/014477_0.jpg ./data/Data_preprocessing/test_img/014477_0.jpg 0.8605555905545492\n",
      "./results_paper/002999_0.jpg ./data/Data_preprocessing/test_img/002999_0.jpg 0.7523499271985297\n",
      "./results_paper/012256_0.jpg ./data/Data_preprocessing/test_img/012256_0.jpg 0.7880639727910288\n",
      "./results_paper/009300_0.jpg ./data/Data_preprocessing/test_img/009300_0.jpg 0.830502152952774\n",
      "SSIM: 0.7764386101150427\n"
     ]
    }
   ],
   "source": [
    "main()"
   ]
  },
  {
   "cell_type": "code",
   "execution_count": 6,
   "metadata": {},
   "outputs": [
    {
     "name": "stdout",
     "output_type": "stream",
     "text": [
      "SSIM: 0.8163067143729023\n"
     ]
    }
   ],
   "source": [
    "# paper pretrained\n",
    "main()"
   ]
  },
  {
   "cell_type": "code",
   "execution_count": 8,
   "metadata": {},
   "outputs": [
    {
     "name": "stdout",
     "output_type": "stream",
     "text": [
      "SSIM: 0.8138556995201067\n"
     ]
    }
   ],
   "source": [
    "# local trained\n",
    "main()"
   ]
  },
  {
   "cell_type": "code",
   "execution_count": 14,
   "metadata": {},
   "outputs": [
    {
     "name": "stdout",
     "output_type": "stream",
     "text": [
      "SSIM: 0.8173473612504079\n"
     ]
    }
   ],
   "source": [
    "# paired\n",
    "main()"
   ]
  },
  {
   "cell_type": "code",
   "execution_count": null,
   "metadata": {},
   "outputs": [],
   "source": []
  }
 ],
 "metadata": {
  "kernelspec": {
   "display_name": "Python 3",
   "language": "python",
   "name": "python3"
  },
  "language_info": {
   "codemirror_mode": {
    "name": "ipython",
    "version": 3
   },
   "file_extension": ".py",
   "mimetype": "text/x-python",
   "name": "python",
   "nbconvert_exporter": "python",
   "pygments_lexer": "ipython3",
   "version": "3.8.5"
  }
 },
 "nbformat": 4,
 "nbformat_minor": 4
}
